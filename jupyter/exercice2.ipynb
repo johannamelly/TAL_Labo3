{
 "cells": [
  {
   "cell_type": "code",
   "execution_count": 22,
   "metadata": {},
   "outputs": [
    {
     "data": {
      "text/plain": [
       "[((('a', 'VERB'), ('Il', 'PRON')), 7),\n",
       " ((('peut', 'VERB'), ('on', 'PRON')), 4),\n",
       " ((('a', 'VERB'), ('il', 'PRON')), 4),\n",
       " ((('contrôle', 'VERB'), ('il', 'PRON')), 3),\n",
       " ((('faut', 'VERB'), ('il', 'PRON')), 3),\n",
       " ((('est', 'VERB'), (\"c'\", 'PRON')), 3),\n",
       " ((('écrit', 'VERB'), ('Il', 'PRON')), 2),\n",
       " ((('temps', 'NOUN'), ('il', 'PRON')), 2),\n",
       " ((('avez', 'VERB'), ('vous', 'PRON')), 2),\n",
       " ((('va', 'VERB'), ('il', 'PRON')), 2)]"
      ]
     },
     "execution_count": 22,
     "metadata": {},
     "output_type": "execute_result"
    }
   ],
   "source": [
    "from nltk.corpus.reader.conll import ConllCorpusReader\n",
    "from nltk.tag.perceptron import PerceptronTagger\n",
    "from nltk.grammar import DependencyGrammar\n",
    "from nltk.parse import (\n",
    "     DependencyGraph,\n",
    "     ProjectiveDependencyParser,\n",
    "     NonprojectiveDependencyParser,\n",
    " )\n",
    "from nltk import FreqDist\n",
    "\n",
    "root = \"../\"\n",
    "train = \"fr-ud-train.conllu3\"\n",
    "test = \"fr-ud-test.conllu3\"\n",
    "COLUMN_TYPES = ('ignore', \n",
    "                'words', \n",
    "                'ignore', \n",
    "                'pos', \n",
    "                'ignore', \n",
    "                'ignore', \n",
    "                'ignore', \n",
    "                'ignore', \n",
    "                'ignore', \n",
    "                'ignore')\n",
    "\n",
    "trainCorpus  = ConllCorpusReader(root=root, \n",
    "                                  fileids=train, \n",
    "                                  columntypes=COLUMN_TYPES, \n",
    "                                  encoding='utf8', \n",
    "                                  separator=\"\\t\", \n",
    "                                  tagset='universal')\n",
    "\n",
    "testCorpus  = ConllCorpusReader(root=root, \n",
    "                                  fileids=test, \n",
    "                                  columntypes=COLUMN_TYPES, \n",
    "                                  encoding='utf8', \n",
    "                                  separator=\"\\t\", \n",
    "                                  tagset='universal')\n",
    "\n",
    "testWords = testCorpus.tagged_sents()\n",
    "\n",
    "myfile = open(\"../fr-ud-test.conllu3\")\n",
    "conllfile = myfile.read()\n",
    "\n",
    "# séparation du fichier conll en lignes\n",
    "ff = conllfile.split('\\n\\n')\n",
    "\n",
    "dg = []\n",
    "\n",
    "# génération des graphes à partir des lignes du fichier conll\n",
    "for f in ff[:-1]:\n",
    "    dg.append(DependencyGraph(f, cell_separator='\\t', top_relation_label='root'))\n",
    "\n",
    "triplets = []\n",
    "\n",
    "# parcourt de tous les graphes\n",
    "for graph in dg:\n",
    "    # parcourt des éléments de chaque triplet\n",
    "    for head, rel, dep in graph.triples():\n",
    "        # récupération des triplets avec la relation \"nsubj\"\n",
    "        if(rel == 'nsubj'):\n",
    "            triplets.append((head, dep))\n",
    "\n",
    "# récupération de la fréquence d'apparition de chaque triplet\n",
    "fdist = FreqDist(triplets)\n",
    "fdist.most_common(10)"
   ]
  },
  {
   "cell_type": "code",
   "execution_count": null,
   "metadata": {},
   "outputs": [],
   "source": []
  }
 ],
 "metadata": {
  "kernelspec": {
   "display_name": "Python 3",
   "language": "python",
   "name": "python3"
  },
  "language_info": {
   "codemirror_mode": {
    "name": "ipython",
    "version": 3
   },
   "file_extension": ".py",
   "mimetype": "text/x-python",
   "name": "python",
   "nbconvert_exporter": "python",
   "pygments_lexer": "ipython3",
   "version": "3.5.2"
  }
 },
 "nbformat": 4,
 "nbformat_minor": 2
}
