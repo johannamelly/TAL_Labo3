{
 "cells": [
  {
   "cell_type": "code",
   "execution_count": 41,
   "metadata": {},
   "outputs": [
    {
     "ename": "ValueError",
     "evalue": "Number of tab-delimited fields (14) not supported by CoNLL(10) or Malt-Tab(4) format",
     "output_type": "error",
     "traceback": [
      "\u001b[0;31m---------------------------------------------------------------------------\u001b[0m",
      "\u001b[0;31mKeyError\u001b[0m                                  Traceback (most recent call last)",
      "\u001b[0;32m/usr/local/lib/python3.5/dist-packages/nltk/parse/dependencygraph.py\u001b[0m in \u001b[0;36m_parse\u001b[0;34m(self, input_, cell_extractor, zero_based, cell_separator, top_relation_label)\u001b[0m\n\u001b[1;32m    350\u001b[0m                 \u001b[0;32mtry\u001b[0m\u001b[0;34m:\u001b[0m\u001b[0;34m\u001b[0m\u001b[0m\n\u001b[0;32m--> 351\u001b[0;31m                     \u001b[0mcell_extractor\u001b[0m \u001b[0;34m=\u001b[0m \u001b[0mextractors\u001b[0m\u001b[0;34m[\u001b[0m\u001b[0mcell_number\u001b[0m\u001b[0;34m]\u001b[0m\u001b[0;34m\u001b[0m\u001b[0m\n\u001b[0m\u001b[1;32m    352\u001b[0m                 \u001b[0;32mexcept\u001b[0m \u001b[0mKeyError\u001b[0m\u001b[0;34m:\u001b[0m\u001b[0;34m\u001b[0m\u001b[0m\n",
      "\u001b[0;31mKeyError\u001b[0m: 14",
      "\nDuring handling of the above exception, another exception occurred:\n",
      "\u001b[0;31mValueError\u001b[0m                                Traceback (most recent call last)",
      "\u001b[0;32m<ipython-input-41-46d670d097d0>\u001b[0m in \u001b[0;36m<module>\u001b[0;34m\u001b[0m\n\u001b[1;32m     45\u001b[0m \u001b[0mff\u001b[0m \u001b[0;34m=\u001b[0m \u001b[0mconllfile\u001b[0m\u001b[0;34m.\u001b[0m\u001b[0msplit\u001b[0m\u001b[0;34m(\u001b[0m\u001b[0;34m'\\n'\u001b[0m\u001b[0;34m)\u001b[0m\u001b[0;34m\u001b[0m\u001b[0m\n\u001b[1;32m     46\u001b[0m \u001b[0;32mfor\u001b[0m \u001b[0mf\u001b[0m \u001b[0;32min\u001b[0m \u001b[0mff\u001b[0m\u001b[0;34m:\u001b[0m\u001b[0;34m\u001b[0m\u001b[0m\n\u001b[0;32m---> 47\u001b[0;31m     \u001b[0mdg\u001b[0m \u001b[0;34m=\u001b[0m \u001b[0mDependencyGraph\u001b[0m\u001b[0;34m(\u001b[0m\u001b[0mf\u001b[0m\u001b[0;34m,\u001b[0m \u001b[0mtop_relation_label\u001b[0m\u001b[0;34m=\u001b[0m\u001b[0;34m'root'\u001b[0m\u001b[0;34m)\u001b[0m\u001b[0;34m\u001b[0m\u001b[0m\n\u001b[0m\u001b[1;32m     48\u001b[0m \u001b[0;34m\u001b[0m\u001b[0m\n\u001b[1;32m     49\u001b[0m \u001b[0;31m#tagger = PerceptronTagger(load=False)\u001b[0m\u001b[0;34m\u001b[0m\u001b[0;34m\u001b[0m\u001b[0m\n",
      "\u001b[0;32m/usr/local/lib/python3.5/dist-packages/nltk/parse/dependencygraph.py\u001b[0m in \u001b[0;36m__init__\u001b[0;34m(self, tree_str, cell_extractor, zero_based, cell_separator, top_relation_label)\u001b[0m\n\u001b[1;32m     88\u001b[0m                 \u001b[0mzero_based\u001b[0m\u001b[0;34m=\u001b[0m\u001b[0mzero_based\u001b[0m\u001b[0;34m,\u001b[0m\u001b[0;34m\u001b[0m\u001b[0m\n\u001b[1;32m     89\u001b[0m                 \u001b[0mcell_separator\u001b[0m\u001b[0;34m=\u001b[0m\u001b[0mcell_separator\u001b[0m\u001b[0;34m,\u001b[0m\u001b[0;34m\u001b[0m\u001b[0m\n\u001b[0;32m---> 90\u001b[0;31m                 \u001b[0mtop_relation_label\u001b[0m\u001b[0;34m=\u001b[0m\u001b[0mtop_relation_label\u001b[0m\u001b[0;34m,\u001b[0m\u001b[0;34m\u001b[0m\u001b[0m\n\u001b[0m\u001b[1;32m     91\u001b[0m             )\n\u001b[1;32m     92\u001b[0m \u001b[0;34m\u001b[0m\u001b[0m\n",
      "\u001b[0;32m/usr/local/lib/python3.5/dist-packages/nltk/parse/dependencygraph.py\u001b[0m in \u001b[0;36m_parse\u001b[0;34m(self, input_, cell_extractor, zero_based, cell_separator, top_relation_label)\u001b[0m\n\u001b[1;32m    353\u001b[0m                     raise ValueError(\n\u001b[1;32m    354\u001b[0m                         \u001b[0;34m'Number of tab-delimited fields ({0}) not supported by '\u001b[0m\u001b[0;34m\u001b[0m\u001b[0m\n\u001b[0;32m--> 355\u001b[0;31m                         \u001b[0;34m'CoNLL(10) or Malt-Tab(4) format'\u001b[0m\u001b[0;34m.\u001b[0m\u001b[0mformat\u001b[0m\u001b[0;34m(\u001b[0m\u001b[0mcell_number\u001b[0m\u001b[0;34m)\u001b[0m\u001b[0;34m\u001b[0m\u001b[0m\n\u001b[0m\u001b[1;32m    356\u001b[0m                     )\n\u001b[1;32m    357\u001b[0m \u001b[0;34m\u001b[0m\u001b[0m\n",
      "\u001b[0;31mValueError\u001b[0m: Number of tab-delimited fields (14) not supported by CoNLL(10) or Malt-Tab(4) format"
     ]
    }
   ],
   "source": [
    "from nltk.corpus.reader.conll import ConllCorpusReader\n",
    "from nltk.tag.perceptron import PerceptronTagger\n",
    "from nltk.grammar import DependencyGrammar\n",
    "from nltk.parse import (\n",
    "     DependencyGraph,\n",
    "     ProjectiveDependencyParser,\n",
    "     NonprojectiveDependencyParser,\n",
    " )\n",
    "\n",
    "\n",
    "root = \"../\"\n",
    "train = \"fr-ud-train.conllu3\"\n",
    "test = \"fr-ud-test.conllu3\"\n",
    "COLUMN_TYPES = ('ignore', \n",
    "                'words', \n",
    "                'ignore', \n",
    "                'pos', \n",
    "                'ignore', \n",
    "                'ignore', \n",
    "                'ignore', \n",
    "                'ignore', \n",
    "                'ignore', \n",
    "                'ignore')\n",
    "\n",
    "trainCorpus  = ConllCorpusReader(root=root, \n",
    "                                  fileids=train, \n",
    "                                  columntypes=COLUMN_TYPES, \n",
    "                                  encoding='utf8', \n",
    "                                  separator=\"\\t\", \n",
    "                                  tagset='universal')\n",
    "\n",
    "testCorpus  = ConllCorpusReader(root=root, \n",
    "                                  fileids=test, \n",
    "                                  columntypes=COLUMN_TYPES, \n",
    "                                  encoding='utf8', \n",
    "                                  separator=\"\\t\", \n",
    "                                  tagset='universal')\n",
    "\n",
    "#trainWords = trainCorpus.tagged_sents()\n",
    "testWords = testCorpus.tagged_sents()\n",
    "#print(trainWords)\n",
    "\n",
    "myfile = open(\"../fr-ud-test.conllu3\")\n",
    "conllfile = myfile.read()\n",
    "ff = conllfile.split('\\n')\n",
    "for f in ff:\n",
    "    dg = DependencyGraph(f, top_relation_label='root')\n",
    "\n",
    "#tagger = PerceptronTagger(load=False)\n",
    "#tagger.train(trainWords)\n",
    "\n",
    "dg = DependencyGraph(ff)\n"
   ]
  },
  {
   "cell_type": "code",
   "execution_count": null,
   "metadata": {},
   "outputs": [],
   "source": []
  }
 ],
 "metadata": {
  "kernelspec": {
   "display_name": "Python 3",
   "language": "python",
   "name": "python3"
  },
  "language_info": {
   "codemirror_mode": {
    "name": "ipython",
    "version": 3
   },
   "file_extension": ".py",
   "mimetype": "text/x-python",
   "name": "python",
   "nbconvert_exporter": "python",
   "pygments_lexer": "ipython3",
   "version": "3.5.2"
  }
 },
 "nbformat": 4,
 "nbformat_minor": 2
}
